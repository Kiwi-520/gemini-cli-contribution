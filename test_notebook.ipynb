{
 "cells": [
  {
   "cell_type": "markdown",
   "id": "ba87f11f",
   "metadata": {},
   "source": [
    "# Test Notebook\n",
    "\n",
    "This is a test notebook for testing the notebook editing tool."
   ]
  },
  {
   "cell_type": "code",
   "execution_count": null,
   "id": "c764ecd0",
   "metadata": {},
   "outputs": [],
   "source": [
    "print('Hello, World!')\n",
    "x = 42\n",
    "print(f'The answer is {x}')"
   ]
  }
 ],
 "metadata": {
  "language_info": {
   "name": "python"
  }
 },
 "nbformat": 4,
 "nbformat_minor": 5
}
