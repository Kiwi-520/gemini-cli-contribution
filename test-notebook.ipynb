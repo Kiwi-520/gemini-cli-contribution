{
  "cells": [
    {
      "cell_type": "markdown",
      "id": "a727786c",
      "metadata": {},
      "source": [
        "# Test Notebook\n",
        "This is a test notebook for the NotebookEditTool."
      ]
    },
    {
      "cell_type": "code",
      "execution_count": null,
      "id": "4508c71e",
      "metadata": {},
      "outputs": [],
      "source": [
        "print(\"Modified by test!\")\n"
      ]
    },
    {
      "id": "5a6l307e",
      "cell_type": "code",
      "source": [
        "print(\"Added by NotebookEditTool!\")\n"
      ],
      "metadata": {},
      "execution_count": null,
      "outputs": []
    },
    {
      "id": "vwhsrzys",
      "cell_type": "code",
      "source": [
        "print(\"Added by NotebookEditTool!\")\n"
      ],
      "metadata": {},
      "execution_count": null,
      "outputs": []
    },
    {
      "id": "jwu0mll8",
      "cell_type": "markdown",
      "source": [
        "## Added by comprehensive test\n",
        "This cell was added during testing.\n"
      ],
      "metadata": {}
    },
    {
      "id": "l1gx3k8v",
      "cell_type": "markdown",
      "source": [
        "## Added by comprehensive test\n",
        "This cell was added during testing.\n"
      ],
      "metadata": {}
    }
  ],
  "metadata": {
    "language_info": {
      "name": "python"
    }
  },
  "nbformat": 4,
  "nbformat_minor": 5
}
